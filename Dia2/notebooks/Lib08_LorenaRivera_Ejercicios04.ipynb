{
 "metadata": {
  "name": "",
  "signature": "sha256:29279e17773632d7d92f9709c8b9ef9ac843d3a33feab223d9beecaed1f17b60"
 },
 "nbformat": 3,
 "nbformat_minor": 0,
 "worksheets": [
  {
   "cells": [
    {
     "cell_type": "code",
     "collapsed": false,
     "input": [
      "print \"Hola RySi 2014\""
     ],
     "language": "python",
     "metadata": {},
     "outputs": [
      {
       "output_type": "stream",
       "stream": "stdout",
       "text": [
        "Hola RySi 2014\n"
       ]
      }
     ],
     "prompt_number": 27
    },
    {
     "cell_type": "code",
     "collapsed": false,
     "input": [
      "a = 1"
     ],
     "language": "python",
     "metadata": {},
     "outputs": [],
     "prompt_number": 4
    },
    {
     "cell_type": "code",
     "collapsed": false,
     "input": [
      "a"
     ],
     "language": "python",
     "metadata": {},
     "outputs": [
      {
       "metadata": {},
       "output_type": "pyout",
       "prompt_number": 5,
       "text": [
        "1"
       ]
      }
     ],
     "prompt_number": 5
    },
    {
     "cell_type": "code",
     "collapsed": false,
     "input": [
      "from numpy.random import randn\n",
      "data = {i : randn() for i in range(7)}"
     ],
     "language": "python",
     "metadata": {},
     "outputs": [],
     "prompt_number": 6
    },
    {
     "cell_type": "code",
     "collapsed": false,
     "input": [
      "data"
     ],
     "language": "python",
     "metadata": {},
     "outputs": [
      {
       "metadata": {},
       "output_type": "pyout",
       "prompt_number": 7,
       "text": [
        "{0: 1.5058596589261972,\n",
        " 1: 0.7039611458697982,\n",
        " 2: 1.100548919207484,\n",
        " 3: -0.19857637947116952,\n",
        " 4: -0.09022903139744036,\n",
        " 5: -0.03455347759969679,\n",
        " 6: -0.2674555432233667}"
       ]
      }
     ],
     "prompt_number": 7
    },
    {
     "cell_type": "code",
     "collapsed": false,
     "input": [
      ">>> from numpy.random import randn\n",
      ">>> data = {i : randn() for i in range(7)}\n",
      ">>> print data # peque\u00f1a trampa para verlo como se ver\u00eda en consola"
     ],
     "language": "python",
     "metadata": {},
     "outputs": [
      {
       "output_type": "stream",
       "stream": "stdout",
       "text": [
        "{0: -1.101404574136083, 1: -1.7850337420530762, 2: -1.7713247349358878, 3: 0.8424236651622602, 4: 0.2666706511927592, 5: 2.160614611783755, 6: 0.009122601023723998}\n"
       ]
      }
     ],
     "prompt_number": 8
    },
    {
     "cell_type": "code",
     "collapsed": false,
     "input": [
      "Facundo = 1"
     ],
     "language": "python",
     "metadata": {},
     "outputs": [],
     "prompt_number": 9
    },
    {
     "cell_type": "code",
     "collapsed": false,
     "input": [
      "Fa = 4"
     ],
     "language": "python",
     "metadata": {},
     "outputs": [],
     "prompt_number": 10
    },
    {
     "cell_type": "code",
     "collapsed": false,
     "input": [
      "Fa"
     ],
     "language": "python",
     "metadata": {},
     "outputs": [
      {
       "metadata": {},
       "output_type": "pyout",
       "prompt_number": 11,
       "text": [
        "4"
       ]
      }
     ],
     "prompt_number": 11
    },
    {
     "cell_type": "code",
     "collapsed": false,
     "input": [
      "lista = [1, 2, 3, 4, 5]"
     ],
     "language": "python",
     "metadata": {},
     "outputs": [],
     "prompt_number": 12
    },
    {
     "cell_type": "code",
     "collapsed": false,
     "input": [
      "lista"
     ],
     "language": "python",
     "metadata": {},
     "outputs": [
      {
       "metadata": {},
       "output_type": "pyout",
       "prompt_number": 15,
       "text": [
        "[1, 2, 3, 4, 5]"
       ]
      }
     ],
     "prompt_number": 15
    },
    {
     "cell_type": "code",
     "collapsed": false,
     "input": [
      "import datetime"
     ],
     "language": "python",
     "metadata": {},
     "outputs": [],
     "prompt_number": 16
    },
    {
     "cell_type": "code",
     "collapsed": false,
     "input": [
      "datetime"
     ],
     "language": "python",
     "metadata": {},
     "outputs": [
      {
       "metadata": {},
       "output_type": "pyout",
       "prompt_number": 19,
       "text": [
        "<module 'datetime' (built-in)>"
       ]
      }
     ],
     "prompt_number": 19
    },
    {
     "cell_type": "code",
     "collapsed": false,
     "input": [
      "ls"
     ],
     "language": "python",
     "metadata": {},
     "outputs": [
      {
       "output_type": "stream",
       "stream": "stdout",
       "text": [
        " El volumen de la unidad C no tiene etiqueta.\n",
        " El n\u00a3mero de serie del volumen es: 1AA8-AC3A\n",
        "\n",
        " Directorio de C:\\Users\\Lore\\Documents\\IPython Notebooks\\lania.ipython\\Dia2\\notebooks\n",
        "\n",
        "13/11/2014  20:47    <DIR>          .\n",
        "13/11/2014  20:47    <DIR>          ..\n",
        "13/11/2014  20:34    <DIR>          .ipynb_checkpoints\n",
        "08/11/2014  12:34                 0 archivonuevogenial.txt\n",
        "11/11/2014  22:22                74 hola_clase.py\n",
        "11/11/2014  22:33                77 hola_clase_espa.py\n",
        "08/11/2014  11:06            18.045 Lib01_Esenciales_Python.ipynb\n",
        "08/11/2014  13:04            14.215 Lib02_Esenciales_DataStructures.ipynb\n",
        "08/11/2014  11:51            18.623 Lib03_Esenciales_DataStructures.ipynb\n",
        "08/11/2014  13:11            40.860 Lib04_Esenciales_TextFiles.ipynb\n",
        "10/11/2014  20:33            45.044 Lib05_Ejercicios01.ipynb\n",
        "10/11/2014  20:34            62.457 Lib05_LorenaRivera_Ejercicios01.ipynb\n",
        "10/11/2014  20:56            21.991 Lib06_Ejercicios02.ipynb\n",
        "10/11/2014  20:58            26.743 Lib06_LorenaRivera_Ejercicios02.ipynb\n",
        "12/11/2014  22:27           114.758 Lib07_Ejercicios03.ipynb\n",
        "12/11/2014  22:27            81.951 Lib07_LorenaRivera_Ejercicios03.ipynb\n",
        "01/11/2014  11:31            44.576 Lib08_Ejercicios04.ipynb\n",
        "13/11/2014  20:46             8.094 Lib08_LorenaRivera_Ejercicios04.ipynb\n",
        "01/11/2014  11:31            81.495 Lib09_ProcesandoDatos01.ipynb\n",
        "01/11/2014  11:31            28.021 Lib10_GraficandoDatos.ipynb\n",
        "01/11/2014  11:31         1.676.419 Lib11_ArchivosCSV.ipynb\n",
        "01/11/2014  11:31           148.399 Lib12_pandas.ipynb\n",
        "12/11/2014  22:22               614 mimodulo.py\n",
        "12/11/2014  22:22             1.115 mimodulo.pyc\n",
        "13/11/2014  20:47    <DIR>          scripts\n",
        "08/11/2014  09:35             6.588 Untitled0.ipynb\n",
        "              22 archivos      2.440.159 bytes\n",
        "               4 dirs   8.112.795.648 bytes libres\n"
       ]
      }
     ],
     "prompt_number": 28
    },
    {
     "cell_type": "code",
     "collapsed": false,
     "input": [
      "ls \"scripts/\""
     ],
     "language": "python",
     "metadata": {},
     "outputs": [
      {
       "output_type": "stream",
       "stream": "stdout",
       "text": [
        " El volumen de la unidad C no tiene etiqueta.\n",
        " El n\u00a3mero de serie del volumen es: 1AA8-AC3A\n",
        "\n",
        " Directorio de C:\\Users\\Lore\\Documents\\IPython Notebooks\\lania.ipython\\Dia2\\notebooks\\scripts\n",
        "\n",
        "13/11/2014  20:47    <DIR>          .\n",
        "13/11/2014  20:47    <DIR>          ..\n",
        "12/11/2014  22:22               614 mimodulo.py\n",
        "12/11/2014  22:22             1.115 mimodulo.pyc\n",
        "               2 archivos          1.729 bytes\n",
        "               2 dirs   8.112.787.456 bytes libres\n"
       ]
      }
     ],
     "prompt_number": 30
    },
    {
     "cell_type": "code",
     "collapsed": false,
     "input": [
      "lista?"
     ],
     "language": "python",
     "metadata": {},
     "outputs": [],
     "prompt_number": 31
    },
    {
     "cell_type": "code",
     "collapsed": false,
     "input": [
      "def suma(a, b):\n",
      "    \"\"\"\n",
      "    Demo de una funci\u00f3n que suma cosas...\n",
      "    \"\"\"\n",
      "    return a + b"
     ],
     "language": "python",
     "metadata": {},
     "outputs": [],
     "prompt_number": 32
    },
    {
     "cell_type": "code",
     "collapsed": false,
     "input": [
      "suma?"
     ],
     "language": "python",
     "metadata": {},
     "outputs": [],
     "prompt_number": 33
    },
    {
     "cell_type": "code",
     "collapsed": false,
     "input": [
      "suma??"
     ],
     "language": "python",
     "metadata": {},
     "outputs": [],
     "prompt_number": 34
    },
    {
     "cell_type": "code",
     "collapsed": false,
     "input": [
      "import numpy as np\n",
      "np.*lin*?"
     ],
     "language": "python",
     "metadata": {},
     "outputs": [],
     "prompt_number": 36
    },
    {
     "cell_type": "code",
     "collapsed": false,
     "input": [
      "mkdir \"temporal\"/"
     ],
     "language": "python",
     "metadata": {},
     "outputs": [],
     "prompt_number": 49
    },
    {
     "cell_type": "code",
     "collapsed": false,
     "input": [
      "ls temporal"
     ],
     "language": "python",
     "metadata": {},
     "outputs": [
      {
       "output_type": "stream",
       "stream": "stdout",
       "text": [
        " El volumen de la unidad C no tiene etiqueta.\n",
        " El n\u00a3mero de serie del volumen es: 1AA8-AC3A\n",
        "\n",
        " Directorio de C:\\Users\\Lore\\Documents\\IPython Notebooks\\lania.ipython\\Dia2\\notebooks\\temporal\n",
        "\n",
        "13/11/2014  20:50    <DIR>          .\n",
        "13/11/2014  20:50    <DIR>          ..\n",
        "               0 archivos              0 bytes\n",
        "               2 dirs   8.112.619.520 bytes libres\n"
       ]
      }
     ],
     "prompt_number": 50
    },
    {
     "cell_type": "code",
     "collapsed": false,
     "input": [
      "!cat temporal/mi_programa.py"
     ],
     "language": "python",
     "metadata": {},
     "outputs": [
      {
       "output_type": "stream",
       "stream": "stderr",
       "text": [
        "\"cat\" no se reconoce como un comando interno o externo,\n",
        "programa o archivo por lotes ejecutable.\n"
       ]
      }
     ],
     "prompt_number": 75
    },
    {
     "cell_type": "code",
     "collapsed": false,
     "input": [
      "%%writefile temporal/mi_programa.py\n",
      "def mi_funcion(x, y):\n",
      "    \"\"\"\n",
      "    Demo\n",
      "    \"\"\"\n",
      "    return x / y\n",
      "\n",
      "x = 4\n",
      "y = 2\n",
      "\n",
      "resultado = mi_funcion(x, y)"
     ],
     "language": "python",
     "metadata": {},
     "outputs": [
      {
       "output_type": "stream",
       "stream": "stdout",
       "text": [
        "Writing temporal/mi_programa.py\n"
       ]
      }
     ],
     "prompt_number": 53
    },
    {
     "cell_type": "code",
     "collapsed": false,
     "input": [
      "!cat temporal/mi_programa.py"
     ],
     "language": "python",
     "metadata": {},
     "outputs": [
      {
       "output_type": "stream",
       "stream": "stderr",
       "text": [
        "\"cat\" no se reconoce como un comando interno o externo,\n",
        "programa o archivo por lotes ejecutable.\n"
       ]
      }
     ],
     "prompt_number": 56
    },
    {
     "cell_type": "code",
     "collapsed": false,
     "input": [
      "%run temporal/mi_programa.py"
     ],
     "language": "python",
     "metadata": {},
     "outputs": [],
     "prompt_number": 57
    },
    {
     "cell_type": "code",
     "collapsed": false,
     "input": [
      "resultado"
     ],
     "language": "python",
     "metadata": {},
     "outputs": [
      {
       "metadata": {},
       "output_type": "pyout",
       "prompt_number": 58,
       "text": [
        "2"
       ]
      }
     ],
     "prompt_number": 58
    },
    {
     "cell_type": "code",
     "collapsed": false,
     "input": [
      "%%writefile temporal/mi_programa.py\n",
      "def mi_funcion(x, y):\n",
      "    \"\"\"\n",
      "    Demo\n",
      "    \"\"\"\n",
      "    return x / y\n",
      "\n",
      "x = 4\n",
      "y = 0\n",
      "\n",
      "resultado = mi_funcion(x, y)"
     ],
     "language": "python",
     "metadata": {},
     "outputs": [
      {
       "output_type": "stream",
       "stream": "stdout",
       "text": [
        "Overwriting temporal/mi_programa.py\n"
       ]
      }
     ],
     "prompt_number": 59
    },
    {
     "cell_type": "code",
     "collapsed": false,
     "input": [
      "%run temporal/mi_programa.py"
     ],
     "language": "python",
     "metadata": {},
     "outputs": [
      {
       "ename": "ZeroDivisionError",
       "evalue": "integer division or modulo by zero",
       "output_type": "pyerr",
       "traceback": [
        "\u001b[1;31m---------------------------------------------------------------------------\u001b[0m\n\u001b[1;31mZeroDivisionError\u001b[0m                         Traceback (most recent call last)",
        "\u001b[1;32mC:\\Users\\Lore\\Documents\\IPython Notebooks\\lania.ipython\\Dia2\\notebooks\\temporal\\mi_programa.py\u001b[0m in \u001b[0;36m<module>\u001b[1;34m()\u001b[0m\n\u001b[0;32m      8\u001b[0m \u001b[0my\u001b[0m \u001b[1;33m=\u001b[0m \u001b[1;36m0\u001b[0m\u001b[1;33m\u001b[0m\u001b[0m\n\u001b[0;32m      9\u001b[0m \u001b[1;33m\u001b[0m\u001b[0m\n\u001b[1;32m---> 10\u001b[1;33m \u001b[0mresultado\u001b[0m \u001b[1;33m=\u001b[0m \u001b[0mmi_funcion\u001b[0m\u001b[1;33m(\u001b[0m\u001b[0mx\u001b[0m\u001b[1;33m,\u001b[0m \u001b[0my\u001b[0m\u001b[1;33m)\u001b[0m\u001b[1;33m\u001b[0m\u001b[0m\n\u001b[0m",
        "\u001b[1;32mC:\\Users\\Lore\\Documents\\IPython Notebooks\\lania.ipython\\Dia2\\notebooks\\temporal\\mi_programa.py\u001b[0m in \u001b[0;36mmi_funcion\u001b[1;34m(x, y)\u001b[0m\n\u001b[0;32m      3\u001b[0m     \u001b[0mDemo\u001b[0m\u001b[1;33m\u001b[0m\u001b[0m\n\u001b[0;32m      4\u001b[0m     \"\"\"\n\u001b[1;32m----> 5\u001b[1;33m     \u001b[1;32mreturn\u001b[0m \u001b[0mx\u001b[0m \u001b[1;33m/\u001b[0m \u001b[0my\u001b[0m\u001b[1;33m\u001b[0m\u001b[0m\n\u001b[0m\u001b[0;32m      6\u001b[0m \u001b[1;33m\u001b[0m\u001b[0m\n\u001b[0;32m      7\u001b[0m \u001b[0mx\u001b[0m \u001b[1;33m=\u001b[0m \u001b[1;36m4\u001b[0m\u001b[1;33m\u001b[0m\u001b[0m\n",
        "\u001b[1;31mZeroDivisionError\u001b[0m: integer division or modulo by zero"
       ]
      }
     ],
     "prompt_number": 60
    },
    {
     "cell_type": "code",
     "collapsed": false,
     "input": [
      "%magic"
     ],
     "language": "python",
     "metadata": {},
     "outputs": [],
     "prompt_number": 61
    },
    {
     "cell_type": "code",
     "collapsed": false,
     "input": [
      "%lsmagic # si queremos listar todas las magics disponibles"
     ],
     "language": "python",
     "metadata": {},
     "outputs": [
      {
       "json": [
        "{\"cell\": {\"prun\": \"ExecutionMagics\", \"file\": \"Other\", \"!\": \"OSMagics\", \"capture\": \"ExecutionMagics\", \"timeit\": \"ExecutionMagics\", \"script\": \"ScriptMagics\", \"pypy\": \"Other\", \"system\": \"OSMagics\", \"perl\": \"Other\", \"HTML\": \"Other\", \"bash\": \"Other\", \"python\": \"Other\", \"SVG\": \"Other\", \"javascript\": \"DisplayMagics\", \"writefile\": \"OSMagics\", \"ruby\": \"Other\", \"python3\": \"Other\", \"python2\": \"Other\", \"latex\": \"DisplayMagics\", \"sx\": \"OSMagics\", \"svg\": \"DisplayMagics\", \"cmd\": \"Other\", \"html\": \"DisplayMagics\", \"sh\": \"Other\", \"time\": \"ExecutionMagics\", \"debug\": \"ExecutionMagics\", \"powershell\": \"Other\"}, \"line\": {\"psource\": \"NamespaceMagics\", \"logstart\": \"LoggingMagics\", \"popd\": \"OSMagics\", \"loadpy\": \"CodeMagics\", \"install_ext\": \"ExtensionMagics\", \"colors\": \"BasicMagics\", \"who_ls\": \"NamespaceMagics\", \"install_profiles\": \"DeprecatedMagics\", \"ddir\": \"Other\", \"pprint\": \"BasicMagics\", \"ldir\": \"Other\", \"ls\": \"Other\", \"save\": \"CodeMagics\", \"tb\": \"ExecutionMagics\", \"cls\": \"KernelMagics\", \"pylab\": \"PylabMagics\", \"killbgscripts\": \"ScriptMagics\", \"quickref\": \"BasicMagics\", \"echo\": \"Other\", \"magic\": \"BasicMagics\", \"dhist\": \"OSMagics\", \"edit\": \"KernelMagics\", \"logstop\": \"LoggingMagics\", \"gui\": \"BasicMagics\", \"alias_magic\": \"BasicMagics\", \"debug\": \"ExecutionMagics\", \"page\": \"BasicMagics\", \"logstate\": \"LoggingMagics\", \"ed\": \"Other\", \"pushd\": \"OSMagics\", \"timeit\": \"ExecutionMagics\", \"rehashx\": \"OSMagics\", \"hist\": \"Other\", \"ren\": \"Other\", \"qtconsole\": \"KernelMagics\", \"dirs\": \"OSMagics\", \"run\": \"ExecutionMagics\", \"reset_selective\": \"NamespaceMagics\", \"pinfo2\": \"NamespaceMagics\", \"matplotlib\": \"PylabMagics\", \"automagic\": \"AutoMagics\", \"doctest_mode\": \"KernelMagics\", \"logoff\": \"LoggingMagics\", \"reload_ext\": \"ExtensionMagics\", \"pdb\": \"ExecutionMagics\", \"load\": \"CodeMagics\", \"lsmagic\": \"BasicMagics\", \"autosave\": \"KernelMagics\", \"cd\": \"OSMagics\", \"pastebin\": \"CodeMagics\", \"prun\": \"ExecutionMagics\", \"autocall\": \"AutoMagics\", \"bookmark\": \"OSMagics\", \"connect_info\": \"KernelMagics\", \"mkdir\": \"Other\", \"system\": \"OSMagics\", \"whos\": \"NamespaceMagics\", \"rmdir\": \"Other\", \"unload_ext\": \"ExtensionMagics\", \"store\": \"StoreMagics\", \"more\": \"KernelMagics\", \"pdef\": \"NamespaceMagics\", \"precision\": \"BasicMagics\", \"pinfo\": \"NamespaceMagics\", \"pwd\": \"OSMagics\", \"psearch\": \"NamespaceMagics\", \"copy\": \"Other\", \"reset\": \"NamespaceMagics\", \"recall\": \"HistoryMagics\", \"xdel\": \"NamespaceMagics\", \"xmode\": \"BasicMagics\", \"rerun\": \"HistoryMagics\", \"logon\": \"LoggingMagics\", \"history\": \"HistoryMagics\", \"pycat\": \"OSMagics\", \"unalias\": \"OSMagics\", \"install_default_config\": \"DeprecatedMagics\", \"env\": \"OSMagics\", \"load_ext\": \"ExtensionMagics\", \"config\": \"ConfigMagics\", \"profile\": \"BasicMagics\", \"pfile\": \"NamespaceMagics\", \"less\": \"KernelMagics\", \"who\": \"NamespaceMagics\", \"notebook\": \"BasicMagics\", \"sx\": \"OSMagics\", \"macro\": \"ExecutionMagics\", \"clear\": \"KernelMagics\", \"alias\": \"OSMagics\", \"time\": \"ExecutionMagics\", \"sc\": \"OSMagics\", \"rep\": \"Other\", \"pdoc\": \"NamespaceMagics\"}}"
       ],
       "metadata": {},
       "output_type": "pyout",
       "prompt_number": 62,
       "text": [
        "Available line magics:\n",
        "%alias  %alias_magic  %autocall  %automagic  %autosave  %bookmark  %cd  %clear  %cls  %colors  %config  %connect_info  %copy  %ddir  %debug  %dhist  %dirs  %doctest_mode  %echo  %ed  %edit  %env  %gui  %hist  %history  %install_default_config  %install_ext  %install_profiles  %killbgscripts  %ldir  %less  %load  %load_ext  %loadpy  %logoff  %logon  %logstart  %logstate  %logstop  %ls  %lsmagic  %macro  %magic  %matplotlib  %mkdir  %more  %notebook  %page  %pastebin  %pdb  %pdef  %pdoc  %pfile  %pinfo  %pinfo2  %popd  %pprint  %precision  %profile  %prun  %psearch  %psource  %pushd  %pwd  %pycat  %pylab  %qtconsole  %quickref  %recall  %rehashx  %reload_ext  %ren  %rep  %rerun  %reset  %reset_selective  %rmdir  %run  %save  %sc  %store  %sx  %system  %tb  %time  %timeit  %unalias  %unload_ext  %who  %who_ls  %whos  %xdel  %xmode\n",
        "\n",
        "Available cell magics:\n",
        "%%!  %%HTML  %%SVG  %%bash  %%capture  %%cmd  %%debug  %%file  %%html  %%javascript  %%latex  %%perl  %%powershell  %%prun  %%pypy  %%python  %%python2  %%python3  %%ruby  %%script  %%sh  %%svg  %%sx  %%system  %%time  %%timeit  %%writefile\n",
        "\n",
        "Automagic is ON, % prefix IS NOT needed for line magics."
       ]
      }
     ],
     "prompt_number": 62
    },
    {
     "cell_type": "code",
     "collapsed": false,
     "input": [
      "%quickref # referencia r\u00e1pida"
     ],
     "language": "python",
     "metadata": {},
     "outputs": [],
     "prompt_number": 63
    },
    {
     "cell_type": "code",
     "collapsed": false,
     "input": [
      "quickref # si %automagic est\u00e1 ON"
     ],
     "language": "python",
     "metadata": {},
     "outputs": [],
     "prompt_number": 64
    },
    {
     "cell_type": "code",
     "collapsed": false,
     "input": [
      "%timeit?"
     ],
     "language": "python",
     "metadata": {},
     "outputs": [],
     "prompt_number": 65
    },
    {
     "cell_type": "code",
     "collapsed": false,
     "input": [
      "m = np.random.randn(100, 100) # matriz de n\u00fameros aleatorios de 100 x 100"
     ],
     "language": "python",
     "metadata": {},
     "outputs": [],
     "prompt_number": 66
    },
    {
     "cell_type": "code",
     "collapsed": false,
     "input": [
      "m"
     ],
     "language": "python",
     "metadata": {},
     "outputs": [
      {
       "metadata": {},
       "output_type": "pyout",
       "prompt_number": 67,
       "text": [
        "array([[-0.04479953, -0.64844227, -0.14930928, ..., -1.45700355,\n",
        "        -0.2606377 ,  1.71996613],\n",
        "       [-1.25309493, -0.32554324, -1.22707236, ..., -1.21968746,\n",
        "         0.26802355, -1.01717347],\n",
        "       [-0.15799373,  1.36596298, -0.13026499, ...,  0.8940004 ,\n",
        "         0.94256937, -0.91308314],\n",
        "       ..., \n",
        "       [ 1.84967215, -2.19573938,  1.05099816, ...,  2.99090381,\n",
        "         1.12824544,  0.525447  ],\n",
        "       [-0.54548054, -0.56303513,  0.07621973, ..., -1.39057116,\n",
        "        -1.2883371 ,  0.37074749],\n",
        "       [-0.01334687,  1.26913924, -2.18636625, ..., -0.80829804,\n",
        "        -1.21324868,  0.66791865]])"
       ]
      }
     ],
     "prompt_number": 67
    },
    {
     "cell_type": "code",
     "collapsed": false,
     "input": [
      "%timeit np.dot(m, m) # multiplicaci\u00f3n vectorial de matrices"
     ],
     "language": "python",
     "metadata": {},
     "outputs": [
      {
       "output_type": "stream",
       "stream": "stdout",
       "text": [
        "10000 loops, best of 3: 181 \u00b5s per loop\n"
       ]
      }
     ],
     "prompt_number": 68
    },
    {
     "cell_type": "code",
     "collapsed": false,
     "input": [
      "%timeit -n 100 -r 10 np.dot(m, m) # las magics aceptan par\u00e1metros"
     ],
     "language": "python",
     "metadata": {},
     "outputs": [
      {
       "output_type": "stream",
       "stream": "stdout",
       "text": [
        "100 loops, best of 10: 158 \u00b5s per loop\n"
       ]
      }
     ],
     "prompt_number": 69
    },
    {
     "cell_type": "code",
     "collapsed": false,
     "input": [
      "%who"
     ],
     "language": "python",
     "metadata": {},
     "outputs": [
      {
       "output_type": "stream",
       "stream": "stdout",
       "text": [
        "Fa\t Facundo\t a\t data\t datetime\t lista\t m\t mi_funcion\t np\t \n",
        "randn\t resultado\t suma\t x\t y\t \n"
       ]
      }
     ],
     "prompt_number": 70
    },
    {
     "cell_type": "code",
     "collapsed": false,
     "input": [
      "%who_ls"
     ],
     "language": "python",
     "metadata": {},
     "outputs": [
      {
       "metadata": {},
       "output_type": "pyout",
       "prompt_number": 71,
       "text": [
        "['Fa',\n",
        " 'Facundo',\n",
        " 'a',\n",
        " 'data',\n",
        " 'datetime',\n",
        " 'lista',\n",
        " 'm',\n",
        " 'mi_funcion',\n",
        " 'np',\n",
        " 'randn',\n",
        " 'resultado',\n",
        " 'suma',\n",
        " 'x',\n",
        " 'y']"
       ]
      }
     ],
     "prompt_number": 71
    },
    {
     "cell_type": "code",
     "collapsed": false,
     "input": [
      "%whos"
     ],
     "language": "python",
     "metadata": {},
     "outputs": [
      {
       "output_type": "stream",
       "stream": "stdout",
       "text": [
        "Variable     Type                          Data/Info\n",
        "----------------------------------------------------\n",
        "Fa           int                           4\n",
        "Facundo      int                           1\n",
        "a            int                           1\n",
        "data         dict                          n=7\n",
        "datetime     module                        <module 'datetime' (built-in)>\n",
        "lista        list                          n=5\n",
        "m            ndarray                       100x100: 10000 elems, type `float64`, 80000 bytes\n",
        "mi_funcion   function                      <function mi_funcion at 0x05B21FB0>\n",
        "np           module                        <module 'numpy' from 'C:\\<...>ages\\numpy\\__init__.pyc'>\n",
        "randn        builtin_function_or_method    <built-in method randn of<...>ate object at 0x059E7D90>\n",
        "resultado    int                           2\n",
        "suma         function                      <function suma at 0x05B21DF0>\n",
        "x            int                           4\n",
        "y            int                           0\n"
       ]
      }
     ],
     "prompt_number": 72
    },
    {
     "cell_type": "code",
     "collapsed": false,
     "input": [
      "%xdel resultado\n",
      "%who"
     ],
     "language": "python",
     "metadata": {},
     "outputs": [
      {
       "output_type": "stream",
       "stream": "stdout",
       "text": [
        "Fa\t Facundo\t a\t data\t datetime\t lista\t m\t mi_funcion\t np\t \n",
        "randn\t suma\t x\t y\t \n"
       ]
      }
     ],
     "prompt_number": 76
    },
    {
     "cell_type": "code",
     "collapsed": false,
     "input": [
      "%reset"
     ],
     "language": "python",
     "metadata": {},
     "outputs": [
      {
       "name": "stdout",
       "output_type": "stream",
       "stream": "stdout",
       "text": [
        "Once deleted, variables cannot be recovered. Proceed (y/[n])? y\n"
       ]
      }
     ],
     "prompt_number": 1
    },
    {
     "cell_type": "code",
     "collapsed": false,
     "input": [
      "%qtconsole"
     ],
     "language": "python",
     "metadata": {},
     "outputs": [],
     "prompt_number": 28
    },
    {
     "cell_type": "code",
     "collapsed": false,
     "input": [
      "%matplotlib"
     ],
     "language": "python",
     "metadata": {},
     "outputs": [
      {
       "output_type": "stream",
       "stream": "stdout",
       "text": [
        "Using matplotlib backend: Qt4Agg\n"
       ]
      }
     ],
     "prompt_number": 29
    },
    {
     "cell_type": "code",
     "collapsed": false,
     "input": [
      "2**4"
     ],
     "language": "python",
     "metadata": {},
     "outputs": [
      {
       "metadata": {},
       "output_type": "pyout",
       "prompt_number": 30,
       "text": [
        "16"
       ]
      }
     ],
     "prompt_number": 30
    },
    {
     "cell_type": "code",
     "collapsed": false,
     "input": [
      "_"
     ],
     "language": "python",
     "metadata": {},
     "outputs": [
      {
       "metadata": {},
       "output_type": "pyout",
       "prompt_number": 6,
       "text": [
        "16"
       ]
      }
     ],
     "prompt_number": 6
    },
    {
     "cell_type": "code",
     "collapsed": false,
     "input": [
      "foo = \"bar\"\n",
      "foo"
     ],
     "language": "python",
     "metadata": {},
     "outputs": [
      {
       "metadata": {},
       "output_type": "pyout",
       "prompt_number": 7,
       "text": [
        "'bar'"
       ]
      }
     ],
     "prompt_number": 7
    },
    {
     "cell_type": "code",
     "collapsed": false,
     "input": [
      "i50"
     ],
     "language": "python",
     "metadata": {},
     "outputs": [
      {
       "ename": "NameError",
       "evalue": "name 'i50' is not defined",
       "output_type": "pyerr",
       "traceback": [
        "\u001b[1;31m---------------------------------------------------------------------------\u001b[0m\n\u001b[1;31mNameError\u001b[0m                                 Traceback (most recent call last)",
        "\u001b[1;32m<ipython-input-33-c20cd560636c>\u001b[0m in \u001b[0;36m<module>\u001b[1;34m()\u001b[0m\n\u001b[1;32m----> 1\u001b[1;33m \u001b[0mi50\u001b[0m\u001b[1;33m\u001b[0m\u001b[0m\n\u001b[0m",
        "\u001b[1;31mNameError\u001b[0m: name 'i50' is not defined"
       ]
      }
     ],
     "prompt_number": 33
    },
    {
     "cell_type": "code",
     "collapsed": false,
     "input": [
      "_50"
     ],
     "language": "python",
     "metadata": {},
     "outputs": [
      {
       "ename": "NameError",
       "evalue": "name '_50' is not defined",
       "output_type": "pyerr",
       "traceback": [
        "\u001b[1;31m---------------------------------------------------------------------------\u001b[0m\n\u001b[1;31mNameError\u001b[0m                                 Traceback (most recent call last)",
        "\u001b[1;32m<ipython-input-32-4ce25d5218b7>\u001b[0m in \u001b[0;36m<module>\u001b[1;34m()\u001b[0m\n\u001b[1;32m----> 1\u001b[1;33m \u001b[0m_50\u001b[0m\u001b[1;33m\u001b[0m\u001b[0m\n\u001b[0m",
        "\u001b[1;31mNameError\u001b[0m: name '_50' is not defined"
       ]
      }
     ],
     "prompt_number": 32
    },
    {
     "cell_type": "code",
     "collapsed": false,
     "input": [
      "foo = \"baz\"\n",
      "foo"
     ],
     "language": "python",
     "metadata": {},
     "outputs": [
      {
       "metadata": {},
       "output_type": "pyout",
       "prompt_number": 10,
       "text": [
        "'baz'"
       ]
      }
     ],
     "prompt_number": 10
    },
    {
     "cell_type": "code",
     "collapsed": false,
     "input": [
      "exec _i50"
     ],
     "language": "python",
     "metadata": {},
     "outputs": [
      {
       "ename": "NameError",
       "evalue": "name '_i50' is not defined",
       "output_type": "pyerr",
       "traceback": [
        "\u001b[1;31m---------------------------------------------------------------------------\u001b[0m\n\u001b[1;31mNameError\u001b[0m                                 Traceback (most recent call last)",
        "\u001b[1;32m<ipython-input-11-b4985ada30b7>\u001b[0m in \u001b[0;36m<module>\u001b[1;34m()\u001b[0m\n\u001b[1;32m----> 1\u001b[1;33m \u001b[1;32mexec\u001b[0m \u001b[0m_i50\u001b[0m\u001b[1;33m\u001b[0m\u001b[0m\n\u001b[0m",
        "\u001b[1;31mNameError\u001b[0m: name '_i50' is not defined"
       ]
      }
     ],
     "prompt_number": 11
    },
    {
     "cell_type": "code",
     "collapsed": false,
     "input": [
      "foo"
     ],
     "language": "python",
     "metadata": {},
     "outputs": [
      {
       "metadata": {},
       "output_type": "pyout",
       "prompt_number": 12,
       "text": [
        "'baz'"
       ]
      }
     ],
     "prompt_number": 12
    },
    {
     "cell_type": "code",
     "collapsed": false,
     "input": [
      "pwd "
     ],
     "language": "python",
     "metadata": {},
     "outputs": [
      {
       "metadata": {},
       "output_type": "pyout",
       "prompt_number": 19,
       "text": [
        "u'C:\\\\Users\\\\Lore\\\\Documents\\\\IPython Notebooks\\\\lania.ipython\\\\Dia2\\\\notebooks'"
       ]
      }
     ],
     "prompt_number": 19
    },
    {
     "cell_type": "code",
     "collapsed": false,
     "input": [
      "mes = !cal"
     ],
     "language": "python",
     "metadata": {},
     "outputs": [],
     "prompt_number": 35
    },
    {
     "cell_type": "code",
     "collapsed": false,
     "input": [
      "este_mes = mes[0]\n",
      "este_mes"
     ],
     "language": "python",
     "metadata": {},
     "outputs": [
      {
       "metadata": {},
       "output_type": "pyout",
       "prompt_number": 36,
       "text": [
        "'\"cal\" no se reconoce como un comando interno o externo,'"
       ]
      }
     ],
     "prompt_number": 36
    },
    {
     "cell_type": "code",
     "collapsed": false,
     "input": [
      "ipy_notebooks = '*.ipynb'"
     ],
     "language": "python",
     "metadata": {},
     "outputs": [],
     "prompt_number": 38
    },
    {
     "cell_type": "code",
     "collapsed": false,
     "input": [
      "!dir"
     ],
     "language": "python",
     "metadata": {},
     "outputs": [
      {
       "output_type": "stream",
       "stream": "stdout",
       "text": [
        " El volumen de la unidad C no tiene etiqueta.\n",
        " El n\u00a3mero de serie del volumen es: 1AA8-AC3A\n",
        "\n",
        " Directorio de C:\\Users\\Lore\\Documents\\IPython Notebooks\\lania.ipython\\Dia2\\notebooks\n",
        "\n",
        "13/11/2014  20:55    <DIR>          .\n",
        "13/11/2014  20:55    <DIR>          ..\n",
        "13/11/2014  20:34    <DIR>          .ipynb_checkpoints\n",
        "08/11/2014  12:34                 0 archivonuevogenial.txt\n",
        "11/11/2014  22:22                74 hola_clase.py\n",
        "11/11/2014  22:33                77 hola_clase_espa.py\n",
        "08/11/2014  11:06            18.045 Lib01_Esenciales_Python.ipynb\n",
        "08/11/2014  13:04            14.215 Lib02_Esenciales_DataStructures.ipynb\n",
        "08/11/2014  11:51            18.623 Lib03_Esenciales_DataStructures.ipynb\n",
        "08/11/2014  13:11            40.860 Lib04_Esenciales_TextFiles.ipynb\n",
        "10/11/2014  20:33            45.044 Lib05_Ejercicios01.ipynb\n",
        "10/11/2014  20:34            62.457 Lib05_LorenaRivera_Ejercicios01.ipynb\n",
        "10/11/2014  20:56            21.991 Lib06_Ejercicios02.ipynb\n",
        "10/11/2014  20:58            26.743 Lib06_LorenaRivera_Ejercicios02.ipynb\n",
        "12/11/2014  22:27           114.758 Lib07_Ejercicios03.ipynb\n",
        "12/11/2014  22:27            81.951 Lib07_LorenaRivera_Ejercicios03.ipynb\n",
        "01/11/2014  11:31            44.576 Lib08_Ejercicios04.ipynb\n",
        "13/11/2014  21:22            34.996 Lib08_LorenaRivera_Ejercicios04.ipynb\n",
        "01/11/2014  11:31            81.495 Lib09_ProcesandoDatos01.ipynb\n",
        "01/11/2014  11:31            28.021 Lib10_GraficandoDatos.ipynb\n",
        "01/11/2014  11:31         1.676.419 Lib11_ArchivosCSV.ipynb\n",
        "01/11/2014  11:31           148.399 Lib12_pandas.ipynb\n",
        "12/11/2014  22:22               614 mimodulo.py\n",
        "12/11/2014  22:22             1.115 mimodulo.pyc\n",
        "13/11/2014  20:47    <DIR>          scripts\n",
        "13/11/2014  20:56    <DIR>          temporal\n",
        "08/11/2014  09:35             6.588 Untitled0.ipynb\n",
        "              22 archivos      2.467.061 bytes\n",
        "               5 dirs   8.108.826.624 bytes libres\n"
       ]
      }
     ],
     "prompt_number": 40
    },
    {
     "cell_type": "code",
     "collapsed": false,
     "input": [
      "!dir $ipy_notebooks"
     ],
     "language": "python",
     "metadata": {},
     "outputs": [
      {
       "output_type": "stream",
       "stream": "stdout",
       "text": [
        " El volumen de la unidad C no tiene etiqueta.\n",
        " El n\u00a3mero de serie del volumen es: 1AA8-AC3A\n",
        "\n",
        " Directorio de C:\\Users\\Lore\\Documents\\IPython Notebooks\\lania.ipython\\Dia2\\notebooks\n",
        "\n",
        "08/11/2014  11:06            18.045 Lib01_Esenciales_Python.ipynb\n",
        "08/11/2014  13:04            14.215 Lib02_Esenciales_DataStructures.ipynb\n",
        "08/11/2014  11:51            18.623 Lib03_Esenciales_DataStructures.ipynb\n",
        "08/11/2014  13:11            40.860 Lib04_Esenciales_TextFiles.ipynb\n",
        "10/11/2014  20:33            45.044 Lib05_Ejercicios01.ipynb\n",
        "10/11/2014  20:34            62.457 Lib05_LorenaRivera_Ejercicios01.ipynb\n",
        "10/11/2014  20:56            21.991 Lib06_Ejercicios02.ipynb\n",
        "10/11/2014  20:58            26.743 Lib06_LorenaRivera_Ejercicios02.ipynb\n",
        "12/11/2014  22:27           114.758 Lib07_Ejercicios03.ipynb\n",
        "12/11/2014  22:27            81.951 Lib07_LorenaRivera_Ejercicios03.ipynb\n",
        "01/11/2014  11:31            44.576 Lib08_Ejercicios04.ipynb\n",
        "13/11/2014  21:22            34.996 Lib08_LorenaRivera_Ejercicios04.ipynb\n",
        "01/11/2014  11:31            81.495 Lib09_ProcesandoDatos01.ipynb\n",
        "01/11/2014  11:31            28.021 Lib10_GraficandoDatos.ipynb\n",
        "01/11/2014  11:31         1.676.419 Lib11_ArchivosCSV.ipynb\n",
        "01/11/2014  11:31           148.399 Lib12_pandas.ipynb\n",
        "08/11/2014  09:35             6.588 Untitled0.ipynb\n",
        "              17 archivos      2.465.181 bytes\n",
        "               0 dirs   8.108.822.528 bytes libres\n"
       ]
      }
     ],
     "prompt_number": 41
    },
    {
     "cell_type": "code",
     "collapsed": false,
     "input": [
      "%alias ld dir"
     ],
     "language": "python",
     "metadata": {},
     "outputs": [],
     "prompt_number": 58
    },
    {
     "cell_type": "code",
     "collapsed": false,
     "input": [
      "ld"
     ],
     "language": "python",
     "metadata": {},
     "outputs": [
      {
       "output_type": "stream",
       "stream": "stdout",
       "text": [
        " El volumen de la unidad C no tiene etiqueta.\n",
        " El n\u00a3mero de serie del volumen es: 1AA8-AC3A\n",
        "\n",
        " Directorio de C:\\Users\\Lore\\Documents\\IPython Notebooks\\lania.ipython\\Dia2\\notebooks\n",
        "\n",
        "13/11/2014  20:55    <DIR>          .\n",
        "13/11/2014  20:55    <DIR>          ..\n",
        "13/11/2014  20:34    <DIR>          .ipynb_checkpoints\n",
        "08/11/2014  12:34                 0 archivonuevogenial.txt\n",
        "11/11/2014  22:22                74 hola_clase.py\n",
        "11/11/2014  22:33                77 hola_clase_espa.py\n",
        "08/11/2014  11:06            18.045 Lib01_Esenciales_Python.ipynb\n",
        "08/11/2014  13:04            14.215 Lib02_Esenciales_DataStructures.ipynb\n",
        "08/11/2014  11:51            18.623 Lib03_Esenciales_DataStructures.ipynb\n",
        "08/11/2014  13:11            40.860 Lib04_Esenciales_TextFiles.ipynb\n",
        "10/11/2014  20:33            45.044 Lib05_Ejercicios01.ipynb\n",
        "10/11/2014  20:34            62.457 Lib05_LorenaRivera_Ejercicios01.ipynb\n",
        "10/11/2014  20:56            21.991 Lib06_Ejercicios02.ipynb\n",
        "10/11/2014  20:58            26.743 Lib06_LorenaRivera_Ejercicios02.ipynb\n",
        "12/11/2014  22:27           114.758 Lib07_Ejercicios03.ipynb\n",
        "12/11/2014  22:27            81.951 Lib07_LorenaRivera_Ejercicios03.ipynb\n",
        "01/11/2014  11:31            44.576 Lib08_Ejercicios04.ipynb\n",
        "13/11/2014  21:26            41.638 Lib08_LorenaRivera_Ejercicios04.ipynb\n",
        "01/11/2014  11:31            81.495 Lib09_ProcesandoDatos01.ipynb\n",
        "01/11/2014  11:31            28.021 Lib10_GraficandoDatos.ipynb\n",
        "01/11/2014  11:31         1.676.419 Lib11_ArchivosCSV.ipynb\n",
        "01/11/2014  11:31           148.399 Lib12_pandas.ipynb\n",
        "12/11/2014  22:22               614 mimodulo.py\n",
        "12/11/2014  22:22             1.115 mimodulo.pyc\n",
        "13/11/2014  20:47    <DIR>          scripts\n",
        "13/11/2014  20:56    <DIR>          temporal\n",
        "08/11/2014  09:35             6.588 Untitled0.ipynb\n",
        "              22 archivos      2.473.703 bytes\n",
        "               5 dirs   8.109.064.192 bytes libres\n"
       ]
      }
     ],
     "prompt_number": 59
    },
    {
     "cell_type": "code",
     "collapsed": false,
     "input": [
      "%alias l_datos (cd /scripts; dir)"
     ],
     "language": "python",
     "metadata": {},
     "outputs": [],
     "prompt_number": 67
    },
    {
     "cell_type": "code",
     "collapsed": false,
     "input": [
      "l_datos2"
     ],
     "language": "python",
     "metadata": {},
     "outputs": [
      {
       "output_type": "stream",
       "stream": "stderr",
       "text": [
        "El sistema no puede encontrar la ruta especificada.\n"
       ]
      }
     ],
     "prompt_number": 66
    },
    {
     "cell_type": "code",
     "collapsed": false,
     "input": [
      "%cd datos"
     ],
     "language": "python",
     "metadata": {},
     "outputs": [
      {
       "output_type": "stream",
       "stream": "stdout",
       "text": [
        "(bookmark:datos) -> /media/datos\n",
        "[Error 3] El sistema no puede encontrar la ruta especificada: u'/media/datos'\n",
        "C:\\Users\\Lore\\Documents\\IPython Notebooks\\lania.ipython\\Dia2\\notebooks\n"
       ]
      }
     ],
     "prompt_number": 64
    },
    {
     "cell_type": "code",
     "collapsed": false,
     "input": [
      "!dir"
     ],
     "language": "python",
     "metadata": {},
     "outputs": [
      {
       "output_type": "stream",
       "stream": "stdout",
       "text": [
        " El volumen de la unidad C no tiene etiqueta.\n",
        " El n\u00a3mero de serie del volumen es: 1AA8-AC3A\n",
        "\n",
        " Directorio de C:\\Users\\Lore\\Documents\\IPython Notebooks\\lania.ipython\\Dia2\\notebooks\n",
        "\n",
        "13/11/2014  20:55    <DIR>          .\n",
        "13/11/2014  20:55    <DIR>          ..\n",
        "13/11/2014  20:34    <DIR>          .ipynb_checkpoints\n",
        "08/11/2014  12:34                 0 archivonuevogenial.txt\n",
        "11/11/2014  22:22                74 hola_clase.py\n",
        "11/11/2014  22:33                77 hola_clase_espa.py\n",
        "08/11/2014  11:06            18.045 Lib01_Esenciales_Python.ipynb\n",
        "08/11/2014  13:04            14.215 Lib02_Esenciales_DataStructures.ipynb\n",
        "08/11/2014  11:51            18.623 Lib03_Esenciales_DataStructures.ipynb\n",
        "08/11/2014  13:11            40.860 Lib04_Esenciales_TextFiles.ipynb\n",
        "10/11/2014  20:33            45.044 Lib05_Ejercicios01.ipynb\n",
        "10/11/2014  20:34            62.457 Lib05_LorenaRivera_Ejercicios01.ipynb\n",
        "10/11/2014  20:56            21.991 Lib06_Ejercicios02.ipynb\n",
        "10/11/2014  20:58            26.743 Lib06_LorenaRivera_Ejercicios02.ipynb\n",
        "12/11/2014  22:27           114.758 Lib07_Ejercicios03.ipynb\n",
        "12/11/2014  22:27            81.951 Lib07_LorenaRivera_Ejercicios03.ipynb\n",
        "01/11/2014  11:31            44.576 Lib08_Ejercicios04.ipynb\n",
        "13/11/2014  21:28            43.696 Lib08_LorenaRivera_Ejercicios04.ipynb\n",
        "01/11/2014  11:31            81.495 Lib09_ProcesandoDatos01.ipynb\n",
        "01/11/2014  11:31            28.021 Lib10_GraficandoDatos.ipynb\n",
        "01/11/2014  11:31         1.676.419 Lib11_ArchivosCSV.ipynb\n",
        "01/11/2014  11:31           148.399 Lib12_pandas.ipynb\n",
        "12/11/2014  22:22               614 mimodulo.py\n",
        "12/11/2014  22:22             1.115 mimodulo.pyc\n",
        "13/11/2014  20:47    <DIR>          scripts\n",
        "13/11/2014  20:56    <DIR>          temporal\n",
        "08/11/2014  09:35             6.588 Untitled0.ipynb\n",
        "              22 archivos      2.475.761 bytes\n",
        "               5 dirs   8.108.982.272 bytes libres\n"
       ]
      }
     ],
     "prompt_number": 69
    }
   ],
   "metadata": {}
  }
 ]
}