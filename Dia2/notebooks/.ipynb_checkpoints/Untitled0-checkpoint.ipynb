{
 "metadata": {
  "name": "",
  "signature": "sha256:04d56deafbe6a94a2cb80454dce59eb8505edd7f7e31fad49f16fd0394847839"
 },
 "nbformat": 3,
 "nbformat_minor": 0,
 "worksheets": []
}