{
 "metadata": {
  "name": "",
  "signature": "sha256:c0ff8888ff21a9778d472408de2728cc8a422c330d59446b5d2d6a9fdbefc2c5"
 },
 "nbformat": 3,
 "nbformat_minor": 0,
 "worksheets": [
  {
   "cells": [
    {
     "cell_type": "code",
     "collapsed": false,
     "input": [
      "%%cmd\n",
      "adb forward tcp:9999 tcp:57328"
     ],
     "language": "python",
     "metadata": {},
     "outputs": [
      {
       "output_type": "stream",
       "stream": "stdout",
       "text": [
        "Microsoft Windows [Versi\ufffdn 6.1.7601]\r\n",
        "Copyright (c) 2009 Microsoft Corporation. Reservados todos los derechos.\r\n",
        "\r\n",
        "C:\\Users\\Lore\\Documents\\IPython Notebooks\\FinalIPythonLANIA\\Dia3\\notebooks>adb forward tcp:9999 tcp:57328\n",
        "\r\n",
        "C:\\Users\\Lore\\Documents\\IPython Notebooks\\FinalIPythonLANIA\\Dia3\\notebooks>"
       ]
      }
     ],
     "prompt_number": 9
    },
    {
     "cell_type": "code",
     "collapsed": false,
     "input": [
      "%%cmd\n",
      "adb devices"
     ],
     "language": "python",
     "metadata": {},
     "outputs": [
      {
       "output_type": "stream",
       "stream": "stdout",
       "text": [
        "Microsoft Windows [Versi\ufffdn 6.1.7601]\r\n",
        "Copyright (c) 2009 Microsoft Corporation. Reservados todos los derechos.\r\n",
        "\r\n",
        "C:\\Users\\Lore\\Documents\\IPython Notebooks\\FinalIPythonLANIA\\Dia3\\notebooks>adb devices\n",
        "List of devices attached \r\n",
        "c08081c13d2bf1f\tdevice\r\n",
        "\r\n",
        "\r\n",
        "C:\\Users\\Lore\\Documents\\IPython Notebooks\\FinalIPythonLANIA\\Dia3\\notebooks>"
       ]
      }
     ],
     "prompt_number": 10
    },
    {
     "cell_type": "code",
     "collapsed": false,
     "input": [
      "%%cmd\n",
      "adb forward tcp:9999 tcp:40235"
     ],
     "language": "python",
     "metadata": {},
     "outputs": [
      {
       "output_type": "stream",
       "stream": "stdout",
       "text": [
        "Microsoft Windows [Versi\ufffdn 6.1.7601]\r\n",
        "Copyright (c) 2009 Microsoft Corporation. Reservados todos los derechos.\r\n",
        "\r\n",
        "C:\\Users\\Lore\\Documents\\IPython Notebooks\\FinalIPythonLANIA\\Dia3\\notebooks>adb forward tcp:9999 tcp:40235\n",
        "\r\n",
        "C:\\Users\\Lore\\Documents\\IPython Notebooks\\FinalIPythonLANIA\\Dia3\\notebooks>"
       ]
      }
     ],
     "prompt_number": 13
    },
    {
     "cell_type": "code",
     "collapsed": false,
     "input": [
      "import android"
     ],
     "language": "python",
     "metadata": {},
     "outputs": [],
     "prompt_number": 14
    },
    {
     "cell_type": "code",
     "collapsed": false,
     "input": [
      "droid = android.Android()"
     ],
     "language": "python",
     "metadata": {},
     "outputs": [],
     "prompt_number": 15
    },
    {
     "cell_type": "code",
     "collapsed": false,
     "input": [
      "droid.ttsSpeak(\"Hola\")"
     ],
     "language": "python",
     "metadata": {},
     "outputs": [
      {
       "metadata": {},
       "output_type": "pyout",
       "prompt_number": 16,
       "text": [
        "Result(id=0, result=None, error=None)"
       ]
      }
     ],
     "prompt_number": 16
    },
    {
     "cell_type": "code",
     "collapsed": false,
     "input": [
      "droid.startLocating()\n",
      "droid.readLocation()"
     ],
     "language": "python",
     "metadata": {},
     "outputs": [
      {
       "metadata": {},
       "output_type": "pyout",
       "prompt_number": 17,
       "text": [
        "Result(id=2, result={}, error=None)"
       ]
      }
     ],
     "prompt_number": 17
    },
    {
     "cell_type": "code",
     "collapsed": false,
     "input": [
      "from time import sleep\n",
      "droid = android.Android()\n",
      "droid.startLocating()\n",
      "sleep(30)\n",
      "latitud = droid.readLocation().result[\"network\"][\"latitude\"]\n",
      "longitud = droid.readLocation().result[\"network\"][\"longitude\"]\n",
      "\n",
      "droid.stopLocating()\n",
      "\n",
      "droid.webViewShow('http://maps.google.com/maps?q=%s,%s' % (latitud, longitud))\n",
      "print (latitud, longitud)\n"
     ],
     "language": "python",
     "metadata": {},
     "outputs": [
      {
       "output_type": "stream",
       "stream": "stdout",
       "text": [
        "(19.4629365, -96.9574904)\n"
       ]
      }
     ],
     "prompt_number": 4
    },
    {
     "cell_type": "code",
     "collapsed": false,
     "input": [],
     "language": "python",
     "metadata": {},
     "outputs": []
    }
   ],
   "metadata": {}
  }
 ]
}