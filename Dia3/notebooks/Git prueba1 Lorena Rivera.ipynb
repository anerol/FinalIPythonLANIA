{
 "metadata": {
  "name": "",
  "signature": "sha256:66478b2bc63d12066a94ace7f934bcea820f730fdee6c6cffb6d5fe9e38c4034"
 },
 "nbformat": 3,
 "nbformat_minor": 0,
 "worksheets": [
  {
   "cells": [
    {
     "cell_type": "heading",
     "level": 1,
     "metadata": {},
     "source": [
      "Titulo"
     ]
    },
    {
     "cell_type": "code",
     "collapsed": false,
     "input": [
      "lista_del_super=[]\n",
      "lista_del_super.append(\"leche\")\n",
      "lista_del_super.append(\"queso\")\n",
      "lista_del_super.append(\"pan\")\n",
      "for item in lista_del_super:\n",
      "    print(item)"
     ],
     "language": "python",
     "metadata": {},
     "outputs": [
      {
       "output_type": "stream",
       "stream": "stdout",
       "text": [
        "leche\n",
        "queso\n",
        "pan\n"
       ]
      }
     ],
     "prompt_number": 2
    },
    {
     "cell_type": "code",
     "collapsed": false,
     "input": [],
     "language": "python",
     "metadata": {},
     "outputs": []
    }
   ],
   "metadata": {}
  }
 ]
}