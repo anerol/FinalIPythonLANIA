{
 "metadata": {
  "name": "",
  "signature": "sha256:96731279c642aa52a9a97678db6084599bbb36b79018dfd79e9ab29fe3de0ea5"
 },
 "nbformat": 3,
 "nbformat_minor": 0,
 "worksheets": [
  {
   "cells": [
    {
     "cell_type": "code",
     "collapsed": false,
     "input": [
      "import android"
     ],
     "language": "python",
     "metadata": {},
     "outputs": [],
     "prompt_number": 5
    },
    {
     "cell_type": "code",
     "collapsed": false,
     "input": [
      "droid = android.Android()"
     ],
     "language": "python",
     "metadata": {},
     "outputs": [],
     "prompt_number": 6
    },
    {
     "cell_type": "code",
     "collapsed": false,
     "input": [
      "droid.startSensingTimed(1,100)"
     ],
     "language": "python",
     "metadata": {},
     "outputs": [
      {
       "metadata": {},
       "output_type": "pyout",
       "prompt_number": 7,
       "text": [
        "Result(id=0, result=None, error=None)"
       ]
      }
     ],
     "prompt_number": 7
    },
    {
     "cell_type": "code",
     "collapsed": false,
     "input": [
      "for i in range(10):\n",
      "    e=droid.eventPoll(1)\n",
      "    if e.result is not None:\n",
      "        print True\n",
      "    else:\n",
      "        time.sleep(2)\n",
      "        print False"
     ],
     "language": "python",
     "metadata": {},
     "outputs": [
      {
       "output_type": "stream",
       "stream": "stdout",
       "text": [
        "True\n",
        "True\n",
        "True\n",
        "True\n",
        "True\n",
        "True\n",
        "True\n",
        "True"
       ]
      },
      {
       "output_type": "stream",
       "stream": "stdout",
       "text": [
        "\n",
        "True\n",
        "True\n"
       ]
      }
     ],
     "prompt_number": 8
    },
    {
     "cell_type": "code",
     "collapsed": false,
     "input": [
      "droid.stopSensing()"
     ],
     "language": "python",
     "metadata": {},
     "outputs": [
      {
       "metadata": {},
       "output_type": "pyout",
       "prompt_number": 9,
       "text": [
        "Result(id=11, result=None, error=None)"
       ]
      }
     ],
     "prompt_number": 9
    },
    {
     "cell_type": "heading",
     "level": 1,
     "metadata": {},
     "source": [
      "Test GPS"
     ]
    },
    {
     "cell_type": "code",
     "collapsed": false,
     "input": [
      "droid.startLocating()"
     ],
     "language": "python",
     "metadata": {},
     "outputs": [
      {
       "ename": "NameError",
       "evalue": "name 'droid' is not defined",
       "output_type": "pyerr",
       "traceback": [
        "\u001b[1;31m---------------------------------------------------------------------------\u001b[0m\n\u001b[1;31mNameError\u001b[0m                                 Traceback (most recent call last)",
        "\u001b[1;32m<ipython-input-1-4a23db8ad6a8>\u001b[0m in \u001b[0;36m<module>\u001b[1;34m()\u001b[0m\n\u001b[1;32m----> 1\u001b[1;33m \u001b[0mdroid\u001b[0m\u001b[1;33m.\u001b[0m\u001b[0mstartLocating\u001b[0m\u001b[1;33m(\u001b[0m\u001b[1;33m)\u001b[0m\u001b[1;33m\u001b[0m\u001b[0m\n\u001b[0m",
        "\u001b[1;31mNameError\u001b[0m: name 'droid' is not defined"
       ]
      }
     ],
     "prompt_number": 1
    },
    {
     "cell_type": "code",
     "collapsed": false,
     "input": [
      "import time\n",
      "for i in range(10):\n",
      "    e=droid.eventPoll(1)\n",
      "    if e.result is not None:\n",
      "        print True\n",
      "    else:\n",
      "        time.sleep(2)\n",
      "        print False"
     ],
     "language": "python",
     "metadata": {},
     "outputs": [
      {
       "output_type": "stream",
       "stream": "stdout",
       "text": [
        "True\n",
        "True\n",
        "True\n",
        "True\n",
        "True\n",
        "True\n",
        "True\n",
        "True\n",
        "True\n",
        "True"
       ]
      },
      {
       "output_type": "stream",
       "stream": "stdout",
       "text": [
        "\n"
       ]
      }
     ],
     "prompt_number": 11
    },
    {
     "cell_type": "code",
     "collapsed": false,
     "input": [
      "droid.stopLocating()"
     ],
     "language": "python",
     "metadata": {},
     "outputs": [
      {
       "metadata": {},
       "output_type": "pyout",
       "prompt_number": 12,
       "text": [
        "Result(id=23, result=None, error=None)"
       ]
      }
     ],
     "prompt_number": 12
    },
    {
     "cell_type": "code",
     "collapsed": false,
     "input": [
      "result = droid.getLastKnownLocation()\n",
      "result"
     ],
     "language": "python",
     "metadata": {},
     "outputs": [
      {
       "metadata": {},
       "output_type": "pyout",
       "prompt_number": 13,
       "text": [
        "Result(id=24, result={u'passive': {u'bearing': 0, u'altitude': 1408.2329842684217, u'time': 1416085060377L, u'longitude': -96.91521339553151, u'provider': u'gps', u'latitude': 19.519715385076378, u'speed': 0, u'accuracy': 32}, u'network': {u'bearing': 0, u'altitude': 0, u'time': 1416168645295L, u'longitude': -96.9157139, u'provider': u'network', u'latitude': 19.5201617, u'speed': 0, u'accuracy': 42}, u'gps': {u'bearing': 0, u'altitude': 1408.2329842684217, u'time': 1416085060377L, u'longitude': -96.91521339553151, u'provider': u'gps', u'latitude': 19.519715385076378, u'speed': 0, u'accuracy': 32}}, error=None)"
       ]
      }
     ],
     "prompt_number": 13
    },
    {
     "cell_type": "code",
     "collapsed": false,
     "input": [
      "result.result"
     ],
     "language": "python",
     "metadata": {},
     "outputs": [
      {
       "metadata": {},
       "output_type": "pyout",
       "prompt_number": 16,
       "text": [
        "{u'gps': {u'accuracy': 32,\n",
        "  u'altitude': 1408.2329842684217,\n",
        "  u'bearing': 0,\n",
        "  u'latitude': 19.519715385076378,\n",
        "  u'longitude': -96.91521339553151,\n",
        "  u'provider': u'gps',\n",
        "  u'speed': 0,\n",
        "  u'time': 1416085060377L},\n",
        " u'network': {u'accuracy': 42,\n",
        "  u'altitude': 0,\n",
        "  u'bearing': 0,\n",
        "  u'latitude': 19.5201617,\n",
        "  u'longitude': -96.9157139,\n",
        "  u'provider': u'network',\n",
        "  u'speed': 0,\n",
        "  u'time': 1416168645295L},\n",
        " u'passive': {u'accuracy': 32,\n",
        "  u'altitude': 1408.2329842684217,\n",
        "  u'bearing': 0,\n",
        "  u'latitude': 19.519715385076378,\n",
        "  u'longitude': -96.91521339553151,\n",
        "  u'provider': u'gps',\n",
        "  u'speed': 0,\n",
        "  u'time': 1416085060377L}}"
       ]
      }
     ],
     "prompt_number": 16
    },
    {
     "cell_type": "code",
     "collapsed": false,
     "input": [
      "latitude = result.result['network']['latitude']"
     ],
     "language": "python",
     "metadata": {},
     "outputs": [
      {
       "metadata": {},
       "output_type": "pyout",
       "prompt_number": 22,
       "text": [
        "19.5201617"
       ]
      }
     ],
     "prompt_number": 22
    },
    {
     "cell_type": "code",
     "collapsed": false,
     "input": [
      "latitude"
     ],
     "language": "python",
     "metadata": {},
     "outputs": [
      {
       "metadata": {},
       "output_type": "pyout",
       "prompt_number": 24,
       "text": [
        "19.5201617"
       ]
      }
     ],
     "prompt_number": 24
    },
    {
     "cell_type": "code",
     "collapsed": false,
     "input": [
      "droid.makeToast(str(latitude))"
     ],
     "language": "python",
     "metadata": {},
     "outputs": [
      {
       "metadata": {},
       "output_type": "pyout",
       "prompt_number": 30,
       "text": [
        "Result(id=33, result=None, error=None)"
       ]
      }
     ],
     "prompt_number": 30
    },
    {
     "cell_type": "code",
     "collapsed": false,
     "input": [
      "# Prende y apage el Wi Fi del dispositivo\n",
      "droid.toggleWifiState()"
     ],
     "language": "python",
     "metadata": {},
     "outputs": [
      {
       "metadata": {},
       "output_type": "pyout",
       "prompt_number": 36,
       "text": [
        "Result(id=39, result=True, error=None)"
       ]
      }
     ],
     "prompt_number": 36
    },
    {
     "cell_type": "code",
     "collapsed": false,
     "input": [
      "if droid.toggleWifiState().result is True:\n",
      "    droid.ttsSpeak(\"Despierten!\")"
     ],
     "language": "python",
     "metadata": {},
     "outputs": [],
     "prompt_number": 41
    }
   ],
   "metadata": {}
  }
 ]
}