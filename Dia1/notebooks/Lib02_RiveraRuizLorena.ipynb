{
 "metadata": {
  "name": "",
  "signature": "sha256:1afd6f4b39fb05d09215763659483d564704f2b2353de8f3ba5f4cf74faf0825"
 },
 "nbformat": 3,
 "nbformat_minor": 0,
 "worksheets": [
  {
   "cells": [
    {
     "cell_type": "code",
     "collapsed": false,
     "input": [
      "print \"Hola Clase\""
     ],
     "language": "python",
     "metadata": {},
     "outputs": [
      {
       "output_type": "stream",
       "stream": "stdout",
       "text": [
        "Hola Clase\n"
       ]
      }
     ],
     "prompt_number": 1
    },
    {
     "cell_type": "code",
     "collapsed": false,
     "input": [
      "%quickref"
     ],
     "language": "python",
     "metadata": {},
     "outputs": [],
     "prompt_number": 2
    },
    {
     "cell_type": "code",
     "collapsed": false,
     "input": [
      "help"
     ],
     "language": "python",
     "metadata": {},
     "outputs": []
    },
    {
     "cell_type": "code",
     "collapsed": false,
     "input": [
      "help()"
     ],
     "language": "python",
     "metadata": {},
     "outputs": [
      {
       "output_type": "stream",
       "stream": "stdout",
       "text": [
        "\n",
        "Welcome to Python 2.7!  This is the online help utility.\n",
        "\n",
        "If this is your first time using Python, you should definitely check out\n",
        "the tutorial on the Internet at http://docs.python.org/2.7/tutorial/.\n",
        "\n",
        "Enter the name of any module, keyword, or topic to get help on writing\n",
        "Python programs and using Python modules.  To quit this help utility and\n",
        "return to the interpreter, just type \"quit\".\n",
        "\n",
        "To get a list of available modules, keywords, or topics, type \"modules\",\n",
        "\"keywords\", or \"topics\".  Each module also comes with a one-line summary\n",
        "of what it does; to list the modules whose summaries contain a given word\n",
        "such as \"spam\", type \"modules spam\".\n",
        "\n"
       ]
      }
     ]
    },
    {
     "cell_type": "code",
     "collapsed": false,
     "input": [
      "object?"
     ],
     "language": "python",
     "metadata": {},
     "outputs": []
    },
    {
     "cell_type": "code",
     "collapsed": false,
     "input": [],
     "language": "python",
     "metadata": {},
     "outputs": []
    }
   ],
   "metadata": {}
  }
 ]
}