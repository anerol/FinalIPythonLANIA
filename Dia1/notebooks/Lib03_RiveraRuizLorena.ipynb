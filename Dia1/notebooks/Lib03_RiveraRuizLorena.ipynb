{
 "metadata": {
  "name": "",
  "signature": "sha256:13727e0c821ff0906baf37d641f18e4421f46ce1a53e78b518b4090b9a0c32b6"
 },
 "nbformat": 3,
 "nbformat_minor": 0,
 "worksheets": [
  {
   "cells": [
    {
     "cell_type": "code",
     "collapsed": false,
     "input": [
      "def funcion_con_un_nombre_muy_largo_y_algo_muy_boba(a, b):\n",
      "    \"\"\"\n",
      "    Este texto es el docstring de boba.\n",
      "    La funci\u00f3n toma dos argumentos a y b\n",
      "    Regresa la suma de los argumentos a + b\n",
      "    No hay verificaci\u00f3n de errores\n",
      "    \"\"\"\n",
      "    return a+b\n",
      "    "
     ],
     "language": "python",
     "metadata": {},
     "outputs": [],
     "prompt_number": 1
    },
    {
     "cell_type": "code",
     "collapsed": false,
     "input": [
      "funcion_con_un_nombre_muy_largo_y_algo_boba?"
     ],
     "language": "python",
     "metadata": {},
     "outputs": [
      {
       "output_type": "stream",
       "stream": "stdout",
       "text": [
        "Object `funcion_con_un_nombre_muy_largo_y_algo_boba` not found.\n"
       ]
      }
     ],
     "prompt_number": 2
    },
    {
     "cell_type": "code",
     "collapsed": false,
     "input": [
      "funcion_con_un_nombre_muy_largo_y_algo_boba??"
     ],
     "language": "python",
     "metadata": {},
     "outputs": [
      {
       "output_type": "stream",
       "stream": "stdout",
       "text": [
        "Object `funcion_con_un_nombre_muy_largo_y_algo_boba` not found.\n"
       ]
      }
     ],
     "prompt_number": 3
    },
    {
     "cell_type": "code",
     "collapsed": false,
     "input": [
      "funcion_con_un_nombre_muy_largo_y_algo_muy_boba(5,6)"
     ],
     "language": "python",
     "metadata": {},
     "outputs": [
      {
       "metadata": {},
       "output_type": "pyout",
       "prompt_number": 4,
       "text": [
        "11"
       ]
      }
     ],
     "prompt_number": 4
    },
    {
     "cell_type": "code",
     "collapsed": false,
     "input": [
      "import sys\n",
      "sys.path.count"
     ],
     "language": "python",
     "metadata": {},
     "outputs": [
      {
       "metadata": {},
       "output_type": "pyout",
       "prompt_number": 10,
       "text": [
        "<function count>"
       ]
      }
     ],
     "prompt_number": 10
    },
    {
     "cell_type": "heading",
     "level": 3,
     "metadata": {},
     "source": [
      "Descripci\u00f3n instrucci\u00f3n anterior:"
     ]
    },
    {
     "cell_type": "markdown",
     "metadata": {},
     "source": [
      "Al ingresar la instrucci\u00f3n sys.path.<TAB> nos muestra las funciones que se encuentran disponibles de diccha libreria."
     ]
    }
   ],
   "metadata": {}
  }
 ]
}