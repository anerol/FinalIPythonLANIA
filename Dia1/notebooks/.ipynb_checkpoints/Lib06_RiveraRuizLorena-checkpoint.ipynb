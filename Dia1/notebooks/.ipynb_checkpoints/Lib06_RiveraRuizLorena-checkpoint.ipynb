{
 "metadata": {
  "name": "",
  "signature": "sha256:0ab9a706f28513d28a7a358647c6d3e5a304dee9d8ec11798754e6e1c202b9cd"
 },
 "nbformat": 3,
 "nbformat_minor": 0,
 "worksheets": [
  {
   "cells": [
    {
     "cell_type": "code",
     "collapsed": false,
     "input": [
      "filelist = !dir\n",
      "for x,i in enumerate(filelist):\n",
      "    print '#',x, '--->', i"
     ],
     "language": "python",
     "metadata": {},
     "outputs": [
      {
       "output_type": "stream",
       "stream": "stdout",
       "text": [
        "# 0 --->  El volumen de la unidad C no tiene etiqueta.\n",
        "# 1 --->  El n\ufffdmero de serie del volumen es: 1AA8-AC3A\n",
        "# 2 ---> \n",
        "# 3 --->  Directorio de C:\\Users\\Lore\\Documents\\IPython Notebooks\\lania.ipython\\Dia1\\notebooks\n",
        "# 4 ---> \n",
        "# 5 ---> 01/11/2014  16:48    <DIR>          .\n",
        "# 6 ---> 01/11/2014  16:48    <DIR>          ..\n",
        "# 7 ---> 01/11/2014  16:18    <DIR>          .ipynb_checkpoints\n",
        "# 8 ---> 01/11/2014  14:00            18.237 Lib00_Esenciales_IPython_Notebook.ipynb\n",
        "# 9 ---> 01/11/2014  13:54            12.255 Lib01_Esenciales_IPython_Notebook.ipynb\n",
        "# 10 ---> 01/11/2014  15:39             8.180 Lib02_Esenciales_IPython_Notebook.ipynb\n",
        "# 11 ---> 01/11/2014  15:47             2.491 Lib02_RiveraRuizLorena.ipynb\n",
        "# 12 ---> 01/11/2014  11:31             8.366 Lib03_Esenciales_IPython_Notebook.ipynb\n",
        "# 13 ---> 01/11/2014  15:59             2.876 Lib03_RiveraRuizLorena.ipynb\n",
        "# 14 ---> 01/11/2014  16:10             9.195 Lib04_Esenciales_IPython_Notebook.ipynb\n",
        "# 15 ---> 01/11/2014  16:13             4.721 Lib04_RiveraRuizLorena.ipynb\n",
        "# 16 ---> 01/11/2014  16:18            15.467 Lib05_Esenciales_IPython_Notebook.ipynb\n",
        "# 17 ---> 01/11/2014  16:47            13.389 Lib05_RiveraRuizLorena.ipynb\n",
        "# 18 ---> 01/11/2014  11:31            22.571 Lib06_Esenciales_IPython_Notebook.ipynb\n",
        "# 19 ---> 01/11/2014  16:47               189 Lib06_RiveraRuizLorena.ipynb\n",
        "# 20 ---> 01/11/2014  11:31           223.399 Lib07_Esenciales_IPython_Notebook.ipynb\n",
        "# 21 ---> 01/11/2014  11:31            15.846 Lib08_Esenciales_IPython_Notebook.ipynb\n",
        "# 22 ---> 01/11/2014  11:31           296.400 Lib09_Esenciales_IPython_Notebook.ipynb\n",
        "# 23 ---> 01/11/2014  11:31            16.852 Lib10_Esenciales_IPython_Notebook.ipynb\n",
        "# 24 ---> 01/11/2014  11:31            22.169 Lib11_GIT01_RevisionControl_1aEtapa.ipynb\n",
        "# 25 ---> 01/11/2014  11:31             8.979 Lib12_GIT02_RevisionControl_2aEtapa.ipynb\n",
        "# 26 ---> 01/11/2014  11:31             8.698 Lib13_GIT03_RevisionControl_3aEtapa.ipynb\n",
        "# 27 ---> 01/11/2014  11:31             7.569 Lib14_GIT04_RevisionControl_4aEtapa.ipynb\n",
        "# 28 ---> 01/11/2014  11:31            14.307 Lib15_GIT05_RevisionControl_Aplicacion.ipynb\n",
        "# 29 --->               21 archivos        732.156 bytes\n",
        "# 30 --->                3 dirs   8.379.326.464 bytes libres\n"
       ]
      }
     ],
     "prompt_number": 1
    },
    {
     "cell_type": "code",
     "collapsed": false,
     "input": [
      "from IPython.display import FileLink, FileLinks\n",
      "FileLinks('.')"
     ],
     "language": "python",
     "metadata": {},
     "outputs": [
      {
       "html": [
        "./<br>\n",
        "&nbsp;&nbsp;<a href='./Lib00_Esenciales_IPython_Notebook.ipynb' target='_blank'>Lib00_Esenciales_IPython_Notebook.ipynb</a><br>\n",
        "&nbsp;&nbsp;<a href='./Lib01_Esenciales_IPython_Notebook.ipynb' target='_blank'>Lib01_Esenciales_IPython_Notebook.ipynb</a><br>\n",
        "&nbsp;&nbsp;<a href='./Lib02_Esenciales_IPython_Notebook.ipynb' target='_blank'>Lib02_Esenciales_IPython_Notebook.ipynb</a><br>\n",
        "&nbsp;&nbsp;<a href='./Lib02_RiveraRuizLorena.ipynb' target='_blank'>Lib02_RiveraRuizLorena.ipynb</a><br>\n",
        "&nbsp;&nbsp;<a href='./Lib03_Esenciales_IPython_Notebook.ipynb' target='_blank'>Lib03_Esenciales_IPython_Notebook.ipynb</a><br>\n",
        "&nbsp;&nbsp;<a href='./Lib03_RiveraRuizLorena.ipynb' target='_blank'>Lib03_RiveraRuizLorena.ipynb</a><br>\n",
        "&nbsp;&nbsp;<a href='./Lib04_Esenciales_IPython_Notebook.ipynb' target='_blank'>Lib04_Esenciales_IPython_Notebook.ipynb</a><br>\n",
        "&nbsp;&nbsp;<a href='./Lib04_RiveraRuizLorena.ipynb' target='_blank'>Lib04_RiveraRuizLorena.ipynb</a><br>\n",
        "&nbsp;&nbsp;<a href='./Lib05_Esenciales_IPython_Notebook.ipynb' target='_blank'>Lib05_Esenciales_IPython_Notebook.ipynb</a><br>\n",
        "&nbsp;&nbsp;<a href='./Lib05_RiveraRuizLorena.ipynb' target='_blank'>Lib05_RiveraRuizLorena.ipynb</a><br>\n",
        "&nbsp;&nbsp;<a href='./Lib06_Esenciales_IPython_Notebook.ipynb' target='_blank'>Lib06_Esenciales_IPython_Notebook.ipynb</a><br>\n",
        "&nbsp;&nbsp;<a href='./Lib06_RiveraRuizLorena.ipynb' target='_blank'>Lib06_RiveraRuizLorena.ipynb</a><br>\n",
        "&nbsp;&nbsp;<a href='./Lib07_Esenciales_IPython_Notebook.ipynb' target='_blank'>Lib07_Esenciales_IPython_Notebook.ipynb</a><br>\n",
        "&nbsp;&nbsp;<a href='./Lib08_Esenciales_IPython_Notebook.ipynb' target='_blank'>Lib08_Esenciales_IPython_Notebook.ipynb</a><br>\n",
        "&nbsp;&nbsp;<a href='./Lib09_Esenciales_IPython_Notebook.ipynb' target='_blank'>Lib09_Esenciales_IPython_Notebook.ipynb</a><br>\n",
        "&nbsp;&nbsp;<a href='./Lib10_Esenciales_IPython_Notebook.ipynb' target='_blank'>Lib10_Esenciales_IPython_Notebook.ipynb</a><br>\n",
        "&nbsp;&nbsp;<a href='./Lib11_GIT01_RevisionControl_1aEtapa.ipynb' target='_blank'>Lib11_GIT01_RevisionControl_1aEtapa.ipynb</a><br>\n",
        "&nbsp;&nbsp;<a href='./Lib12_GIT02_RevisionControl_2aEtapa.ipynb' target='_blank'>Lib12_GIT02_RevisionControl_2aEtapa.ipynb</a><br>\n",
        "&nbsp;&nbsp;<a href='./Lib13_GIT03_RevisionControl_3aEtapa.ipynb' target='_blank'>Lib13_GIT03_RevisionControl_3aEtapa.ipynb</a><br>\n",
        "&nbsp;&nbsp;<a href='./Lib14_GIT04_RevisionControl_4aEtapa.ipynb' target='_blank'>Lib14_GIT04_RevisionControl_4aEtapa.ipynb</a><br>\n",
        "&nbsp;&nbsp;<a href='./Lib15_GIT05_RevisionControl_Aplicacion.ipynb' target='_blank'>Lib15_GIT05_RevisionControl_Aplicacion.ipynb</a><br>\n",
        ".\\.ipynb_checkpoints/<br>\n",
        "&nbsp;&nbsp;<a href='./.ipynb_checkpoints/Lib00_Esenciales_IPython_Notebook-checkpoint.ipynb' target='_blank'>Lib00_Esenciales_IPython_Notebook-checkpoint.ipynb</a><br>\n",
        "&nbsp;&nbsp;<a href='./.ipynb_checkpoints/Lib01_Esenciales_IPython_Notebook-checkpoint.ipynb' target='_blank'>Lib01_Esenciales_IPython_Notebook-checkpoint.ipynb</a><br>\n",
        "&nbsp;&nbsp;<a href='./.ipynb_checkpoints/Lib02_Esenciales_IPython_Notebook-checkpoint.ipynb' target='_blank'>Lib02_Esenciales_IPython_Notebook-checkpoint.ipynb</a><br>\n",
        "&nbsp;&nbsp;<a href='./.ipynb_checkpoints/Lib02_RiveraRuizLorena-checkpoint.ipynb' target='_blank'>Lib02_RiveraRuizLorena-checkpoint.ipynb</a><br>\n",
        "&nbsp;&nbsp;<a href='./.ipynb_checkpoints/Lib03_RiveraRuizLorena-checkpoint.ipynb' target='_blank'>Lib03_RiveraRuizLorena-checkpoint.ipynb</a><br>\n",
        "&nbsp;&nbsp;<a href='./.ipynb_checkpoints/Lib04_Esenciales_IPython_Notebook-checkpoint.ipynb' target='_blank'>Lib04_Esenciales_IPython_Notebook-checkpoint.ipynb</a><br>\n",
        "&nbsp;&nbsp;<a href='./.ipynb_checkpoints/Lib04_RiveraRuizLorena-checkpoint.ipynb' target='_blank'>Lib04_RiveraRuizLorena-checkpoint.ipynb</a><br>\n",
        "&nbsp;&nbsp;<a href='./.ipynb_checkpoints/Lib05_Esenciales_IPython_Notebook-checkpoint.ipynb' target='_blank'>Lib05_Esenciales_IPython_Notebook-checkpoint.ipynb</a><br>\n",
        "&nbsp;&nbsp;<a href='./.ipynb_checkpoints/Lib05_RiveraRuizLorena-checkpoint.ipynb' target='_blank'>Lib05_RiveraRuizLorena-checkpoint.ipynb</a><br>\n",
        "&nbsp;&nbsp;<a href='./.ipynb_checkpoints/Lib06_Esenciales_IPython_Notebook-checkpoint.ipynb' target='_blank'>Lib06_Esenciales_IPython_Notebook-checkpoint.ipynb</a><br>"
       ],
       "metadata": {},
       "output_type": "pyout",
       "prompt_number": 2,
       "text": [
        "./\n",
        "  Lib00_Esenciales_IPython_Notebook.ipynb\n",
        "  Lib01_Esenciales_IPython_Notebook.ipynb\n",
        "  Lib02_Esenciales_IPython_Notebook.ipynb\n",
        "  Lib02_RiveraRuizLorena.ipynb\n",
        "  Lib03_Esenciales_IPython_Notebook.ipynb\n",
        "  Lib03_RiveraRuizLorena.ipynb\n",
        "  Lib04_Esenciales_IPython_Notebook.ipynb\n",
        "  Lib04_RiveraRuizLorena.ipynb\n",
        "  Lib05_Esenciales_IPython_Notebook.ipynb\n",
        "  Lib05_RiveraRuizLorena.ipynb\n",
        "  Lib06_Esenciales_IPython_Notebook.ipynb\n",
        "  Lib06_RiveraRuizLorena.ipynb\n",
        "  Lib07_Esenciales_IPython_Notebook.ipynb\n",
        "  Lib08_Esenciales_IPython_Notebook.ipynb\n",
        "  Lib09_Esenciales_IPython_Notebook.ipynb\n",
        "  Lib10_Esenciales_IPython_Notebook.ipynb\n",
        "  Lib11_GIT01_RevisionControl_1aEtapa.ipynb\n",
        "  Lib12_GIT02_RevisionControl_2aEtapa.ipynb\n",
        "  Lib13_GIT03_RevisionControl_3aEtapa.ipynb\n",
        "  Lib14_GIT04_RevisionControl_4aEtapa.ipynb\n",
        "  Lib15_GIT05_RevisionControl_Aplicacion.ipynb\n",
        ".\\.ipynb_checkpoints/\n",
        "  Lib00_Esenciales_IPython_Notebook-checkpoint.ipynb\n",
        "  Lib01_Esenciales_IPython_Notebook-checkpoint.ipynb\n",
        "  Lib02_Esenciales_IPython_Notebook-checkpoint.ipynb\n",
        "  Lib02_RiveraRuizLorena-checkpoint.ipynb\n",
        "  Lib03_RiveraRuizLorena-checkpoint.ipynb\n",
        "  Lib04_Esenciales_IPython_Notebook-checkpoint.ipynb\n",
        "  Lib04_RiveraRuizLorena-checkpoint.ipynb\n",
        "  Lib05_Esenciales_IPython_Notebook-checkpoint.ipynb\n",
        "  Lib05_RiveraRuizLorena-checkpoint.ipynb\n",
        "  Lib06_Esenciales_IPython_Notebook-checkpoint.ipynb"
       ]
      }
     ],
     "prompt_number": 2
    },
    {
     "cell_type": "code",
     "collapsed": false,
     "input": [
      "FileLinks('./.ipynb_checkpoints/')"
     ],
     "language": "python",
     "metadata": {},
     "outputs": [
      {
       "html": [
        "./.ipynb_checkpoints/<br>\n",
        "&nbsp;&nbsp;<a href='./.ipynb_checkpoints/Lib00_Esenciales_IPython_Notebook-checkpoint.ipynb' target='_blank'>Lib00_Esenciales_IPython_Notebook-checkpoint.ipynb</a><br>\n",
        "&nbsp;&nbsp;<a href='./.ipynb_checkpoints/Lib01_Esenciales_IPython_Notebook-checkpoint.ipynb' target='_blank'>Lib01_Esenciales_IPython_Notebook-checkpoint.ipynb</a><br>\n",
        "&nbsp;&nbsp;<a href='./.ipynb_checkpoints/Lib02_Esenciales_IPython_Notebook-checkpoint.ipynb' target='_blank'>Lib02_Esenciales_IPython_Notebook-checkpoint.ipynb</a><br>\n",
        "&nbsp;&nbsp;<a href='./.ipynb_checkpoints/Lib02_RiveraRuizLorena-checkpoint.ipynb' target='_blank'>Lib02_RiveraRuizLorena-checkpoint.ipynb</a><br>\n",
        "&nbsp;&nbsp;<a href='./.ipynb_checkpoints/Lib03_RiveraRuizLorena-checkpoint.ipynb' target='_blank'>Lib03_RiveraRuizLorena-checkpoint.ipynb</a><br>\n",
        "&nbsp;&nbsp;<a href='./.ipynb_checkpoints/Lib04_Esenciales_IPython_Notebook-checkpoint.ipynb' target='_blank'>Lib04_Esenciales_IPython_Notebook-checkpoint.ipynb</a><br>\n",
        "&nbsp;&nbsp;<a href='./.ipynb_checkpoints/Lib04_RiveraRuizLorena-checkpoint.ipynb' target='_blank'>Lib04_RiveraRuizLorena-checkpoint.ipynb</a><br>\n",
        "&nbsp;&nbsp;<a href='./.ipynb_checkpoints/Lib05_Esenciales_IPython_Notebook-checkpoint.ipynb' target='_blank'>Lib05_Esenciales_IPython_Notebook-checkpoint.ipynb</a><br>\n",
        "&nbsp;&nbsp;<a href='./.ipynb_checkpoints/Lib05_RiveraRuizLorena-checkpoint.ipynb' target='_blank'>Lib05_RiveraRuizLorena-checkpoint.ipynb</a><br>\n",
        "&nbsp;&nbsp;<a href='./.ipynb_checkpoints/Lib06_Esenciales_IPython_Notebook-checkpoint.ipynb' target='_blank'>Lib06_Esenciales_IPython_Notebook-checkpoint.ipynb</a><br>\n",
        "&nbsp;&nbsp;<a href='./.ipynb_checkpoints/Lib06_RiveraRuizLorena-checkpoint.ipynb' target='_blank'>Lib06_RiveraRuizLorena-checkpoint.ipynb</a><br>"
       ],
       "metadata": {},
       "output_type": "pyout",
       "prompt_number": 3,
       "text": [
        "./.ipynb_checkpoints/\n",
        "  Lib00_Esenciales_IPython_Notebook-checkpoint.ipynb\n",
        "  Lib01_Esenciales_IPython_Notebook-checkpoint.ipynb\n",
        "  Lib02_Esenciales_IPython_Notebook-checkpoint.ipynb\n",
        "  Lib02_RiveraRuizLorena-checkpoint.ipynb\n",
        "  Lib03_RiveraRuizLorena-checkpoint.ipynb\n",
        "  Lib04_Esenciales_IPython_Notebook-checkpoint.ipynb\n",
        "  Lib04_RiveraRuizLorena-checkpoint.ipynb\n",
        "  Lib05_Esenciales_IPython_Notebook-checkpoint.ipynb\n",
        "  Lib05_RiveraRuizLorena-checkpoint.ipynb\n",
        "  Lib06_Esenciales_IPython_Notebook-checkpoint.ipynb\n",
        "  Lib06_RiveraRuizLorena-checkpoint.ipynb"
       ]
      }
     ],
     "prompt_number": 3
    },
    {
     "cell_type": "code",
     "collapsed": false,
     "input": [
      "%load http://pastebin.com/raw.php?i=mGiV1FwY"
     ],
     "language": "python",
     "metadata": {},
     "outputs": [],
     "prompt_number": 4
    },
    {
     "cell_type": "code",
     "collapsed": false,
     "input": [
      "CustomPlot()\n",
      "font_size = 20\n",
      "figsize(11.5, 6)\n",
      "\n",
      "t = arange(0.0, 2.0, 0.01)\n",
      "s = sin(2*pi*t)\n",
      "plot(t, s)\n",
      "\n",
      "xlabel(r'time $(s)$', fontsize=font_size)\n",
      "ylabel('voltage $(mV)$', fontsize=font_size)\n",
      "title('Voltage', fontsize=font_size)\n",
      "grid(True)"
     ],
     "language": "python",
     "metadata": {},
     "outputs": []
    },
    {
     "cell_type": "code",
     "collapsed": false,
     "input": [
      "%pastebin?"
     ],
     "language": "python",
     "metadata": {},
     "outputs": [],
     "prompt_number": 22
    },
    {
     "cell_type": "code",
     "collapsed": false,
     "input": [
      "%pastebin -d \"grafica\" 0-10"
     ],
     "language": "python",
     "metadata": {},
     "outputs": [
      {
       "metadata": {},
       "output_type": "pyout",
       "prompt_number": 21,
       "text": [
        "u'https://gist.github.com/ca88e73a3618687be4d5'"
       ]
      }
     ],
     "prompt_number": 21
    },
    {
     "cell_type": "code",
     "collapsed": false,
     "input": [
      "%pastebin \"grafica\" 0-10"
     ],
     "language": "python",
     "metadata": {},
     "outputs": [
      {
       "metadata": {},
       "output_type": "pyout",
       "prompt_number": 7,
       "text": [
        "u'https://gist.github.com/79578890fc32eb72e3ff'"
       ]
      }
     ],
     "prompt_number": 7
    },
    {
     "cell_type": "code",
     "collapsed": false,
     "input": [
      "echo $null >> nombreCarpeta"
     ],
     "language": "python",
     "metadata": {},
     "outputs": [],
     "prompt_number": 14
    },
    {
     "cell_type": "code",
     "collapsed": false,
     "input": [
      "!dir"
     ],
     "language": "python",
     "metadata": {},
     "outputs": [
      {
       "output_type": "stream",
       "stream": "stdout",
       "text": [
        " El volumen de la unidad C no tiene etiqueta.\n",
        " El n\u00a3mero de serie del volumen es: 1AA8-AC3A\n",
        "\n",
        " Directorio de C:\\Users\\Lore\\Documents\\IPython Notebooks\\lania.ipython\\Dia1\\notebooks\n",
        "\n",
        "01/11/2014  16:58    <DIR>          .\n",
        "01/11/2014  16:58    <DIR>          ..\n",
        "01/11/2014  16:49    <DIR>          .ipynb_checkpoints\n",
        "01/11/2014  14:00            18.237 Lib00_Esenciales_IPython_Notebook.ipynb\n",
        "01/11/2014  13:54            12.255 Lib01_Esenciales_IPython_Notebook.ipynb\n",
        "01/11/2014  15:39             8.180 Lib02_Esenciales_IPython_Notebook.ipynb\n",
        "01/11/2014  15:47             2.491 Lib02_RiveraRuizLorena.ipynb\n",
        "01/11/2014  11:31             8.366 Lib03_Esenciales_IPython_Notebook.ipynb\n",
        "01/11/2014  15:59             2.876 Lib03_RiveraRuizLorena.ipynb\n",
        "01/11/2014  16:10             9.195 Lib04_Esenciales_IPython_Notebook.ipynb\n",
        "01/11/2014  16:13             4.721 Lib04_RiveraRuizLorena.ipynb\n",
        "01/11/2014  16:18            15.467 Lib05_Esenciales_IPython_Notebook.ipynb\n",
        "01/11/2014  16:47            13.389 Lib05_RiveraRuizLorena.ipynb\n",
        "01/11/2014  16:53            22.728 Lib06_Esenciales_IPython_Notebook.ipynb\n",
        "01/11/2014  16:57            19.177 Lib06_RiveraRuizLorena.ipynb\n",
        "01/11/2014  11:31           223.399 Lib07_Esenciales_IPython_Notebook.ipynb\n",
        "01/11/2014  11:31            15.846 Lib08_Esenciales_IPython_Notebook.ipynb\n",
        "01/11/2014  11:31           296.400 Lib09_Esenciales_IPython_Notebook.ipynb\n",
        "01/11/2014  11:31            16.852 Lib10_Esenciales_IPython_Notebook.ipynb\n",
        "01/11/2014  11:31            22.169 Lib11_GIT01_RevisionControl_1aEtapa.ipynb\n",
        "01/11/2014  11:31             8.979 Lib12_GIT02_RevisionControl_2aEtapa.ipynb\n",
        "01/11/2014  11:31             8.698 Lib13_GIT03_RevisionControl_3aEtapa.ipynb\n",
        "01/11/2014  11:31             7.569 Lib14_GIT04_RevisionControl_4aEtapa.ipynb\n",
        "01/11/2014  11:31            14.307 Lib15_GIT05_RevisionControl_Aplicacion.ipynb\n",
        "01/11/2014  16:57                16 nombre\n",
        "01/11/2014  16:58                 8 nombreCarpeta\n",
        "              23 archivos        751.325 bytes\n",
        "               3 dirs   8.379.809.792 bytes libres\n"
       ]
      }
     ],
     "prompt_number": 15
    },
    {
     "cell_type": "code",
     "collapsed": false,
     "input": [
      "FileLink('Lib07_Esenciales_IPython_Notebook.ipynb')"
     ],
     "language": "python",
     "metadata": {},
     "outputs": [
      {
       "html": [
        "<a href='Lib07_Esenciales_IPython_Notebook.ipynb' target='_blank'>Lib07_Esenciales_IPython_Notebook.ipynb</a><br>"
       ],
       "metadata": {},
       "output_type": "pyout",
       "prompt_number": 23,
       "text": [
        "C:\\Users\\Lore\\Documents\\IPython Notebooks\\lania.ipython\\Dia1\\notebooks\\Lib07_Esenciales_IPython_Notebook.ipynb"
       ]
      }
     ],
     "prompt_number": 23
    },
    {
     "cell_type": "code",
     "collapsed": false,
     "input": [],
     "language": "python",
     "metadata": {},
     "outputs": []
    }
   ],
   "metadata": {}
  }
 ]
}